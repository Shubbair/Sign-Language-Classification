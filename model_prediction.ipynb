{
  "nbformat": 4,
  "nbformat_minor": 0,
  "metadata": {
    "colab": {
      "name": "model-prediction.ipynb",
      "provenance": [],
      "collapsed_sections": [],
      "toc_visible": true
    },
    "kernelspec": {
      "name": "python3",
      "display_name": "Python 3"
    },
    "language_info": {
      "name": "python"
    },
    "accelerator": "GPU"
  },
  "cells": [
    {
      "cell_type": "markdown",
      "source": [
        "### Load libraries"
      ],
      "metadata": {
        "id": "ysa5IlNnb7zk"
      }
    },
    {
      "cell_type": "code",
      "execution_count": 10,
      "metadata": {
        "id": "uDEyVOoQZzSb"
      },
      "outputs": [],
      "source": [
        "import tensorflow as tf\n",
        "from tensorflow.keras.models import load_model\n",
        "import pandas as pd\n",
        "import numpy as np\n",
        "import matplotlib.pyplot as plt"
      ]
    },
    {
      "cell_type": "markdown",
      "source": [
        "### Load test data"
      ],
      "metadata": {
        "id": "jU0bTlihcIsa"
      }
    },
    {
      "cell_type": "code",
      "source": [
        "test_data = pd.read_csv('sign_mnist_test.csv')"
      ],
      "metadata": {
        "id": "G72zyBE7Z07G"
      },
      "execution_count": 11,
      "outputs": []
    },
    {
      "cell_type": "markdown",
      "source": [
        "### Load the model"
      ],
      "metadata": {
        "id": "lFWQofwdcNmf"
      }
    },
    {
      "cell_type": "code",
      "source": [
        "model = load_model('sign-language-recognition.h5')"
      ],
      "metadata": {
        "id": "EmajnDWWZ09a"
      },
      "execution_count": 12,
      "outputs": []
    },
    {
      "cell_type": "markdown",
      "source": [
        "### Manipulate image"
      ],
      "metadata": {
        "id": "MfbAaHVccQoQ"
      }
    },
    {
      "cell_type": "code",
      "source": [
        "x_test = test_data.drop(['label'],axis=1)\n",
        "x_test /= 255.0\n",
        "x_test = np.array(x_test).reshape(-1,28,28,1)\n",
        "plt.imshow(x_test[0].reshape(28,28),cmap='gray')"
      ],
      "metadata": {
        "colab": {
          "base_uri": "https://localhost:8080/",
          "height": 282
        },
        "id": "drGExvWPZ1CE",
        "outputId": "776a9596-12d0-45ad-b591-9f69bb72e912"
      },
      "execution_count": 14,
      "outputs": [
        {
          "output_type": "execute_result",
          "data": {
            "text/plain": [
              "<matplotlib.image.AxesImage at 0x7fbda002e910>"
            ]
          },
          "metadata": {},
          "execution_count": 14
        },
        {
          "output_type": "display_data",
          "data": {
            "image/png": "[encoded data removed]",
            "text/plain": [
              "<Figure size 432x288 with 1 Axes>"
            ]
          },
          "metadata": {
            "needs_background": "light"
          }
        }
      ]
    },
    {
      "cell_type": "markdown",
      "source": [
        "### Prediction"
      ],
      "metadata": {
        "id": "B_-UxP6pcW4_"
      }
    },
    {
      "cell_type": "code",
      "source": [
        "predictions = model.predict(x_test)\n",
        "predictions = np.argmax(predictions, axis = 1)\n",
        "predictions[0]"
      ],
      "metadata": {
        "colab": {
          "base_uri": "https://localhost:8080/"
        },
        "id": "BY9XRKCqZ1GN",
        "outputId": "13543f8b-872e-4d73-d075-c12fe17b85f5"
      },
      "execution_count": 19,
      "outputs": [
        {
          "output_type": "execute_result",
          "data": {
            "text/plain": [
              "21"
            ]
          },
          "metadata": {},
          "execution_count": 19
        }
      ]
    }
  ]
}